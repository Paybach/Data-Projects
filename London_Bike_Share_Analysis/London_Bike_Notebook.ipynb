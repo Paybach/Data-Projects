{
 "cells": [
  {
   "cell_type": "markdown",
   "metadata": {},
   "source": [
    "Importing libraries"
   ]
  },
  {
   "cell_type": "code",
   "execution_count": 53,
   "metadata": {},
   "outputs": [],
   "source": [
    "import pandas as pd\n",
    "import numpy as np\n",
    "import matplotlib.pyplot as plt\n"
   ]
  },
  {
   "cell_type": "markdown",
   "metadata": {},
   "source": [
    "Viewing the dataset:"
   ]
  },
  {
   "cell_type": "code",
   "execution_count": 54,
   "metadata": {},
   "outputs": [],
   "source": [
    "df = pd.read_csv(r'C:\\Users\\noaha\\Downloads\\archive\\london_merged.csv') #using raw to read the csv file as it has slashes in the file name"
   ]
  },
  {
   "cell_type": "code",
   "execution_count": 55,
   "metadata": {},
   "outputs": [
    {
     "name": "stdout",
     "output_type": "stream",
     "text": [
      "             timestamp  cnt   t1   t2    hum  wind_speed  weather_code  \\\n",
      "0  2015-01-04 00:00:00  182  3.0  2.0   93.0         6.0           3.0   \n",
      "1  2015-01-04 01:00:00  138  3.0  2.5   93.0         5.0           1.0   \n",
      "2  2015-01-04 02:00:00  134  2.5  2.5   96.5         0.0           1.0   \n",
      "3  2015-01-04 03:00:00   72  2.0  2.0  100.0         0.0           1.0   \n",
      "4  2015-01-04 04:00:00   47  2.0  0.0   93.0         6.5           1.0   \n",
      "\n",
      "   is_holiday  is_weekend  season  \n",
      "0         0.0         1.0     3.0  \n",
      "1         0.0         1.0     3.0  \n",
      "2         0.0         1.0     3.0  \n",
      "3         0.0         1.0     3.0  \n",
      "4         0.0         1.0     3.0  \n"
     ]
    }
   ],
   "source": [
    "print (df.head())"
   ]
  },
  {
   "cell_type": "markdown",
   "metadata": {},
   "source": [
    "Metadata:\n",
    "\"timestamp\" - timestamp field for grouping the data\n",
    "\"cnt\" - the count of a new bike shares\n",
    "\"t1\" - real temperature in C\n",
    "\"t2\" - temperature in C \"feels like\"\n",
    "\"hum\" - humidity in percentage\n",
    "\"wind_speed\" - wind speed in km/h\n",
    "\"weather_code\" - category of the weather\n",
    "\"is_holiday\" - boolean field - 1 holiday / 0 non holiday\n",
    "\"is_weekend\" - boolean field - 1 if the day is weekend\n",
    "\"season\" - category field meteorological seasons: 0-spring ; 1-summer; 2-fall; 3-winter.\n",
    "\n",
    "\"weathe_code\" category description:\n",
    "1 = Clear ; mostly clear but have some values with haze/fog/patches of fog/ fog in vicinity \n",
    "2 = scattered clouds / few clouds \n",
    "3 = Broken clouds \n",
    "4 = Cloudy \n",
    "7 = Rain/ light Rain shower/ Light rain\n",
    "10 = rain with thunderstorm \n",
    "26 = snowfall \n",
    "94 = Freezing Fog"
   ]
  },
  {
   "cell_type": "markdown",
   "metadata": {},
   "source": [
    "Cleaning the dataset"
   ]
  },
  {
   "cell_type": "code",
   "execution_count": 56,
   "metadata": {},
   "outputs": [],
   "source": [
    "df.drop_duplicates(inplace=True) #drop duplicates\n",
    "df.dropna(inplace=True) #drop missing values"
   ]
  },
  {
   "cell_type": "code",
   "execution_count": 57,
   "metadata": {},
   "outputs": [],
   "source": [
    "season_dict = {0:'spring', 1:'summer', 2: 'fall', 3: 'winter'}\n",
    "weather_dict = {1: 'Clear', 2:'Scattered clouds', 3:'Broken clouds', 4: 'Cloudy', 7: 'Rain', 10: 'Rain with thunderstorm', 26: 'Snowfall', 94: 'Freezing Fog'}\n",
    "holiday_dict = {0: 'No', 1: 'Yes'}\n",
    "weekend_dict = {0: 'No', 1: 'Yes'}\n",
    "\n",
    "df['season'] = df['season'].map(season_dict)\n",
    "df['weather_code'] = df['weather_code'].map(weather_dict)\n",
    "df['is_holiday'] = df['is_holiday'].map(holiday_dict)\n",
    "df['is_weekend'] = df['is_weekend'].map(weekend_dict)\n",
    "df['timestamp'] = pd.to_datetime(df['timestamp'])\n"
   ]
  },
  {
   "cell_type": "code",
   "execution_count": 58,
   "metadata": {},
   "outputs": [
    {
     "name": "stdout",
     "output_type": "stream",
     "text": [
      "            timestamp  cnt   t1   t2    hum  wind_speed   weather_code  \\\n",
      "0 2015-01-04 00:00:00  182  3.0  2.0   93.0         6.0  Broken clouds   \n",
      "1 2015-01-04 01:00:00  138  3.0  2.5   93.0         5.0          Clear   \n",
      "2 2015-01-04 02:00:00  134  2.5  2.5   96.5         0.0          Clear   \n",
      "3 2015-01-04 03:00:00   72  2.0  2.0  100.0         0.0          Clear   \n",
      "4 2015-01-04 04:00:00   47  2.0  0.0   93.0         6.5          Clear   \n",
      "\n",
      "  is_holiday is_weekend  season  \n",
      "0         No        Yes  winter  \n",
      "1         No        Yes  winter  \n",
      "2         No        Yes  winter  \n",
      "3         No        Yes  winter  \n",
      "4         No        Yes  winter  \n"
     ]
    }
   ],
   "source": [
    "print (df.head())"
   ]
  },
  {
   "cell_type": "code",
   "execution_count": 59,
   "metadata": {},
   "outputs": [],
   "source": [
    "clean_dataset = df.copy()\n",
    "clean_dataset.to_csv(r'C:\\Users\\noaha\\Downloads\\archive\\london_merged_clean.csv', index = False, header=True)"
   ]
  }
 ],
 "metadata": {
  "kernelspec": {
   "display_name": "Python 3",
   "language": "python",
   "name": "python3"
  },
  "language_info": {
   "codemirror_mode": {
    "name": "ipython",
    "version": 3
   },
   "file_extension": ".py",
   "mimetype": "text/x-python",
   "name": "python",
   "nbconvert_exporter": "python",
   "pygments_lexer": "ipython3",
   "version": "3.11.9"
  }
 },
 "nbformat": 4,
 "nbformat_minor": 2
}
